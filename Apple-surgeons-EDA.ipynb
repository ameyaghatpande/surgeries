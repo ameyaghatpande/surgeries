{
 "cells": [
  {
   "cell_type": "markdown",
   "metadata": {
    "deletable": true,
    "editable": true
   },
   "source": [
    "### Ameya Ghatpande on 09-07-2017\n",
    "#### Exploratory Data analysis on the eye surgeries Dataset"
   ]
  },
  {
   "cell_type": "code",
   "execution_count": 286,
   "metadata": {
    "collapsed": true,
    "deletable": true,
    "editable": true
   },
   "outputs": [],
   "source": [
    "# <aghatpande> on 07-Sep-2017\n",
    "# print all the outputs in a cell\n",
    "from IPython.core.interactiveshell import InteractiveShell\n",
    "InteractiveShell.ast_node_interactivity = \"all\""
   ]
  },
  {
   "cell_type": "code",
   "execution_count": 287,
   "metadata": {
    "collapsed": true,
    "deletable": true,
    "editable": true
   },
   "outputs": [],
   "source": [
    "import pandas as pd\n",
    "import numpy as np\n",
    "%matplotlib inline\n",
    "import matplotlib.pyplot as plt"
   ]
  },
  {
   "cell_type": "code",
   "execution_count": 289,
   "metadata": {
    "collapsed": false,
    "deletable": true,
    "editable": true
   },
   "outputs": [],
   "source": [
    "#<aghatpande> on 07-Sep-2017 for EDA\n",
    "surgeriesDF = pd.read_csv(\"C:\\\\Users\\\\v-amghat\\\\Documents\\\\Notebooks\\\\apple-eye-surgeries.csv\")"
   ]
  },
  {
   "cell_type": "markdown",
   "metadata": {
    "deletable": true,
    "editable": true
   },
   "source": [
    "##### Check the size of data"
   ]
  },
  {
   "cell_type": "code",
   "execution_count": 281,
   "metadata": {
    "collapsed": false,
    "deletable": true,
    "editable": true
   },
   "outputs": [
    {
     "data": {
      "text/plain": [
       "3500"
      ]
     },
     "execution_count": 281,
     "metadata": {},
     "output_type": "execute_result"
    }
   ],
   "source": [
    "len(surgeriesDF)"
   ]
  },
  {
   "cell_type": "markdown",
   "metadata": {
    "deletable": true,
    "editable": true
   },
   "source": [
    "##### Explore the columns"
   ]
  },
  {
   "cell_type": "code",
   "execution_count": 282,
   "metadata": {
    "collapsed": false,
    "deletable": true,
    "editable": true
   },
   "outputs": [
    {
     "data": {
      "text/plain": [
       "Index(['date_of_birth', 'patient_insurance', 'patient_sex', 'success',\n",
       "       'surgeon_id', 'over_under_correction', 'treatment', 'initial_severity'],\n",
       "      dtype='object')"
      ]
     },
     "execution_count": 282,
     "metadata": {},
     "output_type": "execute_result"
    }
   ],
   "source": [
    "surgeriesDF.columns"
   ]
  },
  {
   "cell_type": "markdown",
   "metadata": {
    "deletable": true,
    "editable": true
   },
   "source": [
    "##### Check if any columns have NULL values\n",
    "##### If any column has a NULL/NaN, then check whats the count of these NULL values. "
   ]
  },
  {
   "cell_type": "code",
   "execution_count": 258,
   "metadata": {
    "collapsed": false,
    "deletable": true,
    "editable": true
   },
   "outputs": [
    {
     "data": {
      "text/plain": [
       "date_of_birth            False\n",
       "patient_insurance         True\n",
       "patient_sex              False\n",
       "success                  False\n",
       "surgeon_id               False\n",
       "over_under_correction     True\n",
       "treatment                False\n",
       "initial_severity         False\n",
       "dtype: bool"
      ]
     },
     "execution_count": 258,
     "metadata": {},
     "output_type": "execute_result"
    }
   ],
   "source": [
    "pd.isnull(surgeriesDF).sum() > 0"
   ]
  },
  {
   "cell_type": "code",
   "execution_count": 290,
   "metadata": {
    "collapsed": false,
    "deletable": true,
    "editable": true,
    "scrolled": true
   },
   "outputs": [
    {
     "data": {
      "text/plain": [
       "3"
      ]
     },
     "execution_count": 290,
     "metadata": {},
     "output_type": "execute_result"
    },
    {
     "data": {
      "text/plain": [
       "2810"
      ]
     },
     "execution_count": 290,
     "metadata": {},
     "output_type": "execute_result"
    }
   ],
   "source": [
    "# <aghatpande> on 07-Sep-2017\n",
    "# Check the number of NULLS in identified columns\n",
    "pd.isnull(surgeriesDF.patient_insurance).sum()\n",
    "pd.isnull(surgeriesDF.over_under_correction).sum()"
   ]
  },
  {
   "cell_type": "markdown",
   "metadata": {
    "deletable": true,
    "editable": true
   },
   "source": [
    "##### Since the patient_insurance column has less number of NULLS, lets check the data for this condition"
   ]
  },
  {
   "cell_type": "code",
   "execution_count": 291,
   "metadata": {
    "collapsed": true,
    "deletable": true,
    "editable": true
   },
   "outputs": [],
   "source": [
    "patientInsuranceNullDF = surgeriesDF[surgeriesDF.patient_insurance.isnull() == True]"
   ]
  },
  {
   "cell_type": "code",
   "execution_count": 292,
   "metadata": {
    "collapsed": false,
    "deletable": true,
    "editable": true
   },
   "outputs": [
    {
     "data": {
      "text/html": [
       "<div>\n",
       "<table border=\"1\" class=\"dataframe\">\n",
       "  <thead>\n",
       "    <tr style=\"text-align: right;\">\n",
       "      <th></th>\n",
       "      <th>date_of_birth</th>\n",
       "      <th>patient_insurance</th>\n",
       "      <th>patient_sex</th>\n",
       "      <th>success</th>\n",
       "      <th>surgeon_id</th>\n",
       "      <th>over_under_correction</th>\n",
       "      <th>treatment</th>\n",
       "      <th>initial_severity</th>\n",
       "    </tr>\n",
       "  </thead>\n",
       "  <tbody>\n",
       "    <tr>\n",
       "      <th>3168</th>\n",
       "      <td>10/7/89</td>\n",
       "      <td>NaN</td>\n",
       "      <td>Male</td>\n",
       "      <td>True</td>\n",
       "      <td>5</td>\n",
       "      <td>NaN</td>\n",
       "      <td>X</td>\n",
       "      <td>MINOR</td>\n",
       "    </tr>\n",
       "    <tr>\n",
       "      <th>3358</th>\n",
       "      <td>6/25/76</td>\n",
       "      <td>NaN</td>\n",
       "      <td>Female</td>\n",
       "      <td>True</td>\n",
       "      <td>19</td>\n",
       "      <td>NaN</td>\n",
       "      <td>Y</td>\n",
       "      <td>MINOR</td>\n",
       "    </tr>\n",
       "    <tr>\n",
       "      <th>3483</th>\n",
       "      <td>12/23/95</td>\n",
       "      <td>NaN</td>\n",
       "      <td>Female</td>\n",
       "      <td>True</td>\n",
       "      <td>32</td>\n",
       "      <td>NaN</td>\n",
       "      <td>X</td>\n",
       "      <td>SEVERE</td>\n",
       "    </tr>\n",
       "  </tbody>\n",
       "</table>\n",
       "</div>"
      ],
      "text/plain": [
       "     date_of_birth patient_insurance patient_sex success  surgeon_id  \\\n",
       "3168       10/7/89               NaN        Male    True           5   \n",
       "3358       6/25/76               NaN      Female    True          19   \n",
       "3483      12/23/95               NaN      Female    True          32   \n",
       "\n",
       "     over_under_correction treatment initial_severity  \n",
       "3168                   NaN         X            MINOR  \n",
       "3358                   NaN         Y            MINOR  \n",
       "3483                   NaN         X           SEVERE  "
      ]
     },
     "execution_count": 292,
     "metadata": {},
     "output_type": "execute_result"
    }
   ],
   "source": [
    "patientInsuranceNullDF"
   ]
  },
  {
   "cell_type": "markdown",
   "metadata": {
    "deletable": true,
    "editable": true
   },
   "source": [
    "<b> Since there are more NULLS in over_under_correction column, Lets explore it using the describe functionality.\n",
    "1. Check the possible unique values \n"
   ]
  },
  {
   "cell_type": "code",
   "execution_count": 294,
   "metadata": {
    "collapsed": false,
    "deletable": true,
    "editable": true
   },
   "outputs": [
    {
     "data": {
      "text/plain": [
       "count       690\n",
       "unique        2\n",
       "top       UNDER\n",
       "freq        599\n",
       "Name: over_under_correction, dtype: object"
      ]
     },
     "execution_count": 294,
     "metadata": {},
     "output_type": "execute_result"
    },
    {
     "data": {
      "text/plain": [
       "array([nan, 'UNDER', 'OVER'], dtype=object)"
      ]
     },
     "execution_count": 294,
     "metadata": {},
     "output_type": "execute_result"
    }
   ],
   "source": [
    "surgeriesDF.over_under_correction.describe()\n",
    "surgeriesDF.over_under_correction.unique()"
   ]
  },
  {
   "cell_type": "markdown",
   "metadata": {
    "deletable": true,
    "editable": true
   },
   "source": [
    "### Surprise !! We have few duplicate entries.\n",
    "### I am assuming if all the columns match, the entry is duplicate. There is less chance that a person with \n",
    "1. Same sex\n",
    "2. Same DOB\n",
    "3. Has same insurance\n",
    "4. Is treated by same surgeon\n",
    "5. Has same initial_severity"
   ]
  },
  {
   "cell_type": "code",
   "execution_count": 296,
   "metadata": {
    "collapsed": false,
    "deletable": true,
    "editable": true
   },
   "outputs": [
    {
     "data": {
      "text/html": [
       "<div>\n",
       "<table border=\"1\" class=\"dataframe\">\n",
       "  <thead>\n",
       "    <tr style=\"text-align: right;\">\n",
       "      <th></th>\n",
       "      <th>date_of_birth</th>\n",
       "      <th>patient_insurance</th>\n",
       "      <th>patient_sex</th>\n",
       "      <th>success</th>\n",
       "      <th>surgeon_id</th>\n",
       "      <th>over_under_correction</th>\n",
       "      <th>treatment</th>\n",
       "      <th>initial_severity</th>\n",
       "    </tr>\n",
       "  </thead>\n",
       "  <tbody>\n",
       "    <tr>\n",
       "      <th>1606</th>\n",
       "      <td>4/6/97</td>\n",
       "      <td>D</td>\n",
       "      <td>Female</td>\n",
       "      <td>True</td>\n",
       "      <td>10</td>\n",
       "      <td>NaN</td>\n",
       "      <td>Y</td>\n",
       "      <td>MINOR</td>\n",
       "    </tr>\n",
       "    <tr>\n",
       "      <th>2627</th>\n",
       "      <td>3/9/96</td>\n",
       "      <td>C</td>\n",
       "      <td>Male</td>\n",
       "      <td>True</td>\n",
       "      <td>5</td>\n",
       "      <td>NaN</td>\n",
       "      <td>X</td>\n",
       "      <td>SEVERE</td>\n",
       "    </tr>\n",
       "  </tbody>\n",
       "</table>\n",
       "</div>"
      ],
      "text/plain": [
       "     date_of_birth patient_insurance patient_sex success  surgeon_id  \\\n",
       "1606        4/6/97                 D      Female    True          10   \n",
       "2627        3/9/96                 C        Male    True           5   \n",
       "\n",
       "     over_under_correction treatment initial_severity  \n",
       "1606                   NaN         Y            MINOR  \n",
       "2627                   NaN         X           SEVERE  "
      ]
     },
     "execution_count": 296,
     "metadata": {},
     "output_type": "execute_result"
    }
   ],
   "source": [
    "duplicateDF = surgeriesDF[surgeriesDF.duplicated() == True]\n",
    "duplicateDF"
   ]
  },
  {
   "cell_type": "markdown",
   "metadata": {
    "deletable": true,
    "editable": true
   },
   "source": [
    "##### Lets check one of the duplicate entry"
   ]
  },
  {
   "cell_type": "code",
   "execution_count": 297,
   "metadata": {
    "collapsed": false,
    "deletable": true,
    "editable": true
   },
   "outputs": [
    {
     "data": {
      "text/html": [
       "<div>\n",
       "<table border=\"1\" class=\"dataframe\">\n",
       "  <thead>\n",
       "    <tr style=\"text-align: right;\">\n",
       "      <th></th>\n",
       "      <th>date_of_birth</th>\n",
       "      <th>patient_insurance</th>\n",
       "      <th>patient_sex</th>\n",
       "      <th>success</th>\n",
       "      <th>surgeon_id</th>\n",
       "      <th>over_under_correction</th>\n",
       "      <th>treatment</th>\n",
       "      <th>initial_severity</th>\n",
       "    </tr>\n",
       "  </thead>\n",
       "  <tbody>\n",
       "    <tr>\n",
       "      <th>1583</th>\n",
       "      <td>4/6/97</td>\n",
       "      <td>D</td>\n",
       "      <td>Female</td>\n",
       "      <td>True</td>\n",
       "      <td>10</td>\n",
       "      <td>NaN</td>\n",
       "      <td>Y</td>\n",
       "      <td>MINOR</td>\n",
       "    </tr>\n",
       "    <tr>\n",
       "      <th>1606</th>\n",
       "      <td>4/6/97</td>\n",
       "      <td>D</td>\n",
       "      <td>Female</td>\n",
       "      <td>True</td>\n",
       "      <td>10</td>\n",
       "      <td>NaN</td>\n",
       "      <td>Y</td>\n",
       "      <td>MINOR</td>\n",
       "    </tr>\n",
       "  </tbody>\n",
       "</table>\n",
       "</div>"
      ],
      "text/plain": [
       "     date_of_birth patient_insurance patient_sex success  surgeon_id  \\\n",
       "1583        4/6/97                 D      Female    True          10   \n",
       "1606        4/6/97                 D      Female    True          10   \n",
       "\n",
       "     over_under_correction treatment initial_severity  \n",
       "1583                   NaN         Y            MINOR  \n",
       "1606                   NaN         Y            MINOR  "
      ]
     },
     "execution_count": 297,
     "metadata": {},
     "output_type": "execute_result"
    }
   ],
   "source": [
    "CheckDuplicateEntries = surgeriesDF[((surgeriesDF.date_of_birth == \"4/6/97\") & (surgeriesDF.surgeon_id == 10))]\n",
    "CheckDuplicateEntries"
   ]
  },
  {
   "cell_type": "markdown",
   "metadata": {
    "deletable": true,
    "editable": true
   },
   "source": [
    "##### Lets remove the duplicate entry. Here there are only 2 duplicate entries."
   ]
  },
  {
   "cell_type": "code",
   "execution_count": 298,
   "metadata": {
    "collapsed": false,
    "deletable": true,
    "editable": true
   },
   "outputs": [
    {
     "data": {
      "text/plain": [
       "3500"
      ]
     },
     "execution_count": 298,
     "metadata": {},
     "output_type": "execute_result"
    },
    {
     "data": {
      "text/plain": [
       "3498"
      ]
     },
     "execution_count": 298,
     "metadata": {},
     "output_type": "execute_result"
    }
   ],
   "source": [
    "len(surgeriesDF)\n",
    "nonDuplicateSurgeriesDF = surgeriesDF.drop_duplicates()\n",
    "len(nonDuplicateSurgeriesDF)"
   ]
  },
  {
   "cell_type": "markdown",
   "metadata": {},
   "source": [
    "#### Lets check the age wise distribution on patients. Histogram comes to over rescue"
   ]
  },
  {
   "cell_type": "code",
   "execution_count": 542,
   "metadata": {
    "collapsed": false
   },
   "outputs": [
    {
     "data": {
      "text/plain": [
       "<matplotlib.axes._subplots.AxesSubplot at 0x28b2fd9eac8>"
      ]
     },
     "execution_count": 542,
     "metadata": {},
     "output_type": "execute_result"
    },
    {
     "data": {
      "image/png": "[encoded data removed]",
      "text/plain": [
       "<matplotlib.figure.Figure at 0x28b2fad04a8>"
      ]
     },
     "metadata": {},
     "output_type": "display_data"
    }
   ],
   "source": [
    "nonDuplicateSurgeriesDF.Age.hist()"
   ]
  },
  {
   "cell_type": "markdown",
   "metadata": {
    "deletable": true,
    "editable": true
   },
   "source": [
    "#### Let us plot a pie chart of Gender distribution of patients\n",
    "#### Always a good practise to check the possible values. I found a junk value here. So correcting it"
   ]
  },
  {
   "cell_type": "code",
   "execution_count": 301,
   "metadata": {
    "collapsed": false,
    "deletable": true,
    "editable": true
   },
   "outputs": [
    {
     "data": {
      "text/plain": [
       "array(['Male', 'Female', 'Malle'], dtype=object)"
      ]
     },
     "execution_count": 301,
     "metadata": {},
     "output_type": "execute_result"
    }
   ],
   "source": [
    "nonDuplicateSurgeriesDF.patient_sex.unique()"
   ]
  },
  {
   "cell_type": "code",
   "execution_count": 302,
   "metadata": {
    "collapsed": false,
    "deletable": true,
    "editable": true
   },
   "outputs": [
    {
     "name": "stderr",
     "output_type": "stream",
     "text": [
      "C:\\Users\\v-amghat\\AppData\\Local\\Enthought\\Canopy\\edm\\envs\\User\\lib\\site-packages\\pandas\\core\\generic.py:3554: SettingWithCopyWarning: \n",
      "A value is trying to be set on a copy of a slice from a DataFrame\n",
      "\n",
      "See the caveats in the documentation: http://pandas.pydata.org/pandas-docs/stable/indexing.html#indexing-view-versus-copy\n",
      "  self._update_inplace(new_data)\n"
     ]
    },
    {
     "data": {
      "text/plain": [
       "array(['Male', 'Female'], dtype=object)"
      ]
     },
     "execution_count": 302,
     "metadata": {},
     "output_type": "execute_result"
    },
    {
     "data": {
      "text/plain": [
       "1404"
      ]
     },
     "execution_count": 302,
     "metadata": {},
     "output_type": "execute_result"
    },
    {
     "data": {
      "text/plain": [
       "2094"
      ]
     },
     "execution_count": 302,
     "metadata": {},
     "output_type": "execute_result"
    }
   ],
   "source": [
    "nonDuplicateSurgeriesDF[\"patient_sex\"].replace(\"Malle\", \"Male\", inplace=True)\n",
    "nonDuplicateSurgeriesDF.patient_sex.unique()\n",
    "len(nonDuplicateSurgeriesDF[nonDuplicateSurgeriesDF.patient_sex == \"Female\"])\n",
    "len(nonDuplicateSurgeriesDF[nonDuplicateSurgeriesDF.patient_sex == \"Male\"])"
   ]
  },
  {
   "cell_type": "code",
   "execution_count": 308,
   "metadata": {
    "collapsed": false,
    "deletable": true,
    "editable": true
   },
   "outputs": [
    {
     "data": {
      "image/png": "[encoded data removed]",
      "text/plain": [
       "<matplotlib.figure.Figure at 0x28b2ea70cf8>"
      ]
     },
     "metadata": {},
     "output_type": "display_data"
    }
   ],
   "source": [
    "# <aghatpande> on 07-Sep-2017\n",
    "# Using matplotlib for gender distribution pie chart\n",
    "fig1, ax1 = plt.subplots()\n",
    "plt.title(\"Patient Gender distribution\");\n",
    "plt.pie(nonDuplicateSurgeriesDF[\"patient_sex\"].value_counts().tolist(), colors=[\"g\", \"y\"], labels=[\"Male\", \"Female\"], startangle=90, autopct='%.1f%%', textprops={'weight': 'bold'});\n",
    "ax1.axis('equal');"
   ]
  },
  {
   "cell_type": "markdown",
   "metadata": {},
   "source": [
    "#### Lets convert date_of_birth to Age (years), so that Age related insights can be calculated"
   ]
  },
  {
   "cell_type": "code",
   "execution_count": 349,
   "metadata": {
    "collapsed": false,
    "deletable": true,
    "editable": true,
    "scrolled": true
   },
   "outputs": [
    {
     "data": {
      "text/plain": [
       "date_of_birth            object\n",
       "patient_insurance        object\n",
       "patient_sex              object\n",
       "success                    bool\n",
       "surgeon_id                int64\n",
       "over_under_correction    object\n",
       "treatment                object\n",
       "initial_severity         object\n",
       "dob                       int64\n",
       "dtype: object"
      ]
     },
     "execution_count": 349,
     "metadata": {},
     "output_type": "execute_result"
    },
    {
     "name": "stderr",
     "output_type": "stream",
     "text": [
      "C:\\Users\\v-amghat\\AppData\\Local\\Enthought\\Canopy\\edm\\envs\\User\\lib\\site-packages\\ipykernel\\__main__.py:3: SettingWithCopyWarning: \n",
      "A value is trying to be set on a copy of a slice from a DataFrame.\n",
      "Try using .loc[row_indexer,col_indexer] = value instead\n",
      "\n",
      "See the caveats in the documentation: http://pandas.pydata.org/pandas-docs/stable/indexing.html#indexing-view-versus-copy\n",
      "  app.launch_new_instance()\n"
     ]
    }
   ],
   "source": [
    "from datetime import datetime as dt\n",
    "nonDuplicateSurgeriesDF.dtypes\n",
    "nonDuplicateSurgeriesDF['dob'] = nonDuplicateSurgeriesDF['date_of_birth'].apply(lambda x: dt.strptime(x,'%m/%d/%y'))"
   ]
  },
  {
   "cell_type": "code",
   "execution_count": 350,
   "metadata": {
    "collapsed": false
   },
   "outputs": [
    {
     "data": {
      "text/plain": [
       "date_of_birth                    object\n",
       "patient_insurance                object\n",
       "patient_sex                      object\n",
       "success                            bool\n",
       "surgeon_id                        int64\n",
       "over_under_correction            object\n",
       "treatment                        object\n",
       "initial_severity                 object\n",
       "dob                      datetime64[ns]\n",
       "dtype: object"
      ]
     },
     "execution_count": 350,
     "metadata": {},
     "output_type": "execute_result"
    }
   ],
   "source": [
    "# <aghatpande> on 07-Sep-2017\n",
    "# The newly created column \"dob\" is now a column of type \"DateTime\" and so we can extract the year out of it\n",
    "nonDuplicateSurgeriesDF.dtypes"
   ]
  },
  {
   "cell_type": "code",
   "execution_count": 351,
   "metadata": {
    "collapsed": false,
    "deletable": true,
    "editable": true,
    "scrolled": true
   },
   "outputs": [
    {
     "name": "stderr",
     "output_type": "stream",
     "text": [
      "C:\\Users\\v-amghat\\AppData\\Local\\Enthought\\Canopy\\edm\\envs\\User\\lib\\site-packages\\ipykernel\\__main__.py:1: SettingWithCopyWarning: \n",
      "A value is trying to be set on a copy of a slice from a DataFrame.\n",
      "Try using .loc[row_indexer,col_indexer] = value instead\n",
      "\n",
      "See the caveats in the documentation: http://pandas.pydata.org/pandas-docs/stable/indexing.html#indexing-view-versus-copy\n",
      "  if __name__ == '__main__':\n"
     ]
    }
   ],
   "source": [
    "nonDuplicateSurgeriesDF['dob'] = nonDuplicateSurgeriesDF['dob'].apply(lambda x: x.year)"
   ]
  },
  {
   "cell_type": "code",
   "execution_count": 352,
   "metadata": {
    "collapsed": false,
    "deletable": true,
    "editable": true
   },
   "outputs": [
    {
     "data": {
      "text/plain": [
       "119"
      ]
     },
     "execution_count": 352,
     "metadata": {},
     "output_type": "execute_result"
    },
    {
     "data": {
      "text/html": [
       "<div>\n",
       "<table border=\"1\" class=\"dataframe\">\n",
       "  <thead>\n",
       "    <tr style=\"text-align: right;\">\n",
       "      <th></th>\n",
       "      <th>date_of_birth</th>\n",
       "      <th>patient_insurance</th>\n",
       "      <th>patient_sex</th>\n",
       "      <th>success</th>\n",
       "      <th>surgeon_id</th>\n",
       "      <th>over_under_correction</th>\n",
       "      <th>treatment</th>\n",
       "      <th>initial_severity</th>\n",
       "      <th>dob</th>\n",
       "    </tr>\n",
       "  </thead>\n",
       "  <tbody>\n",
       "    <tr>\n",
       "      <th>26</th>\n",
       "      <td>7/17/68</td>\n",
       "      <td>J</td>\n",
       "      <td>Female</td>\n",
       "      <td>False</td>\n",
       "      <td>6</td>\n",
       "      <td>UNDER</td>\n",
       "      <td>Y</td>\n",
       "      <td>MINOR</td>\n",
       "      <td>2068</td>\n",
       "    </tr>\n",
       "    <tr>\n",
       "      <th>73</th>\n",
       "      <td>9/7/55</td>\n",
       "      <td>G</td>\n",
       "      <td>Female</td>\n",
       "      <td>True</td>\n",
       "      <td>4</td>\n",
       "      <td>NaN</td>\n",
       "      <td>X</td>\n",
       "      <td>SEVERE</td>\n",
       "      <td>2055</td>\n",
       "    </tr>\n",
       "    <tr>\n",
       "      <th>77</th>\n",
       "      <td>5/20/63</td>\n",
       "      <td>H</td>\n",
       "      <td>Female</td>\n",
       "      <td>True</td>\n",
       "      <td>6</td>\n",
       "      <td>NaN</td>\n",
       "      <td>X</td>\n",
       "      <td>MINOR</td>\n",
       "      <td>2063</td>\n",
       "    </tr>\n",
       "    <tr>\n",
       "      <th>117</th>\n",
       "      <td>10/13/54</td>\n",
       "      <td>C</td>\n",
       "      <td>Male</td>\n",
       "      <td>True</td>\n",
       "      <td>13</td>\n",
       "      <td>NaN</td>\n",
       "      <td>X</td>\n",
       "      <td>SEVERE</td>\n",
       "      <td>2054</td>\n",
       "    </tr>\n",
       "    <tr>\n",
       "      <th>140</th>\n",
       "      <td>12/27/68</td>\n",
       "      <td>H</td>\n",
       "      <td>Female</td>\n",
       "      <td>True</td>\n",
       "      <td>6</td>\n",
       "      <td>NaN</td>\n",
       "      <td>Y</td>\n",
       "      <td>MINOR</td>\n",
       "      <td>2068</td>\n",
       "    </tr>\n",
       "  </tbody>\n",
       "</table>\n",
       "</div>"
      ],
      "text/plain": [
       "    date_of_birth patient_insurance patient_sex success  surgeon_id  \\\n",
       "26        7/17/68                 J      Female   False           6   \n",
       "73         9/7/55                 G      Female    True           4   \n",
       "77        5/20/63                 H      Female    True           6   \n",
       "117      10/13/54                 C        Male    True          13   \n",
       "140      12/27/68                 H      Female    True           6   \n",
       "\n",
       "    over_under_correction treatment initial_severity   dob  \n",
       "26                  UNDER         Y            MINOR  2068  \n",
       "73                    NaN         X           SEVERE  2055  \n",
       "77                    NaN         X            MINOR  2063  \n",
       "117                   NaN         X           SEVERE  2054  \n",
       "140                   NaN         Y            MINOR  2068  "
      ]
     },
     "execution_count": 352,
     "metadata": {},
     "output_type": "execute_result"
    },
    {
     "name": "stderr",
     "output_type": "stream",
     "text": [
      "C:\\Users\\v-amghat\\AppData\\Local\\Enthought\\Canopy\\edm\\envs\\User\\lib\\site-packages\\ipykernel\\__main__.py:9: SettingWithCopyWarning: \n",
      "A value is trying to be set on a copy of a slice from a DataFrame.\n",
      "Try using .loc[row_indexer,col_indexer] = value instead\n",
      "\n",
      "See the caveats in the documentation: http://pandas.pydata.org/pandas-docs/stable/indexing.html#indexing-view-versus-copy\n"
     ]
    },
    {
     "data": {
      "text/plain": [
       "0"
      ]
     },
     "execution_count": 352,
     "metadata": {},
     "output_type": "execute_result"
    }
   ],
   "source": [
    "# <aghatpande> on 07-Sep-2017\n",
    "# This is weird. Some of the dob are coming more than 2017. (Need to explore more on DateTime.year() function)\n",
    "badDOB = nonDuplicateSurgeriesDF[nonDuplicateSurgeriesDF.dob > dt.now().year]\n",
    "len(badDOB)\n",
    "badDOB.head(5)\n",
    "\n",
    "# <aghatpande> on 07-Sep-2017\n",
    "# Hack to get things in place :)\n",
    "nonDuplicateSurgeriesDF[\"dob\"] = nonDuplicateSurgeriesDF.dob.apply(lambda x: x if x < 2017 else x - 2000 + 1900)\n",
    "len(nonDuplicateSurgeriesDF[nonDuplicateSurgeriesDF.dob > dt.now().year])"
   ]
  },
  {
   "cell_type": "code",
   "execution_count": 356,
   "metadata": {
    "collapsed": false,
    "deletable": true,
    "editable": true
   },
   "outputs": [],
   "source": [
    "nonDuplicateSurgeriesDF['Age'] = dt.now().year - nonDuplicateSurgeriesDF.dob"
   ]
  },
  {
   "cell_type": "code",
   "execution_count": 357,
   "metadata": {
    "collapsed": false,
    "deletable": true,
    "editable": true
   },
   "outputs": [
    {
     "data": {
      "text/plain": [
       "0    47\n",
       "1    19\n",
       "2    43\n",
       "3    35\n",
       "4    47\n",
       "Name: Age, dtype: int64"
      ]
     },
     "execution_count": 357,
     "metadata": {},
     "output_type": "execute_result"
    },
    {
     "data": {
      "text/plain": [
       "3498"
      ]
     },
     "execution_count": 357,
     "metadata": {},
     "output_type": "execute_result"
    }
   ],
   "source": [
    "nonDuplicateSurgeriesDF['Age'].head(5)\n",
    "len(nonDuplicateSurgeriesDF)"
   ]
  },
  {
   "cell_type": "markdown",
   "metadata": {},
   "source": [
    "#### Lets plot the Gender wise + Age wise distribution of patients.\n",
    "#### This gives us a general idea of for a particular gender what is the most common age of eye surgery"
   ]
  },
  {
   "cell_type": "code",
   "execution_count": 383,
   "metadata": {
    "collapsed": false,
    "deletable": true,
    "editable": true
   },
   "outputs": [
    {
     "data": {
      "image/png": "[encoded data removed]",
      "text/plain": [
       "<matplotlib.figure.Figure at 0x28b2e72d780>"
      ]
     },
     "metadata": {},
     "output_type": "display_data"
    }
   ],
   "source": [
    "fig, ax = plt.subplots(1, 2, sharey=TrueS);\n",
    "nonDuplicateSurgeriesDF[nonDuplicateSurgeriesDF[\"patient_sex\"] == \"Female\"].groupby(\"Age\").size().plot(ax = ax[0], kind='bar', title='Age wise distribution of Females', figsize=(30,10), fontsize=10);\n",
    "nonDuplicateSurgeriesDF[nonDuplicateSurgeriesDF[\"patient_sex\"] == \"Male\"].groupby(\"Age\").size().plot(ax = ax[1], kind='bar', title='Age wise distribution of Males', color=\"r\", figsize=(30,10), fontsize=10);\n",
    "ax[0].title.set_size(25);\n",
    "ax[1].title.set_size(25);"
   ]
  },
  {
   "cell_type": "markdown",
   "metadata": {},
   "source": [
    "#### Lets check Gender wise success numbers\n",
    "#### Since the Male patients are substantially more, we expect more success (in terms of numbers) in males"
   ]
  },
  {
   "cell_type": "code",
   "execution_count": 384,
   "metadata": {
    "collapsed": true,
    "deletable": true,
    "editable": true
   },
   "outputs": [],
   "source": [
    "# <aghatpande> on 07-Sep-2017\n",
    "# Sepearate out the Dataframes\n",
    "femalesDF = nonDuplicateSurgeriesDF[nonDuplicateSurgeriesDF.patient_sex == \"Female\"]\n",
    "malesDF = nonDuplicateSurgeriesDF[nonDuplicateSurgeriesDF.patient_sex == \"Male\"]"
   ]
  },
  {
   "cell_type": "code",
   "execution_count": 385,
   "metadata": {
    "collapsed": false,
    "deletable": true,
    "editable": true
   },
   "outputs": [
    {
     "data": {
      "image/png": "[encoded data removed]",
      "text/plain": [
       "<matplotlib.figure.Figure at 0x28b2e739080>"
      ]
     },
     "metadata": {},
     "output_type": "display_data"
    }
   ],
   "source": [
    "import matplotlib.pyplot as plt\n",
    "import seaborn as sns\n",
    "\n",
    "fig, ax = plt.subplots(1, 2, sharey=True)\n",
    "femalesDF.groupby(\"success\").size().plot(kind='bar', ax=ax[0], title='Female successful surgeries', figsize=(15,5), fontsize=12);\n",
    "malesDF.groupby('success').size().plot(kind='bar', ax=ax[1], title='Male successful surgeries', figsize=(15,5), color=\"r\", fontsize=12);\n",
    "ax[0].title.set_size(20);\n",
    "ax[1].title.set_size(20);"
   ]
  },
  {
   "cell_type": "markdown",
   "metadata": {},
   "source": [
    "#### Lets check the overall success of surgeries (across both genders)\n",
    "#### Lets also check the percentage of success in individual genders"
   ]
  },
  {
   "cell_type": "code",
   "execution_count": 487,
   "metadata": {
    "collapsed": false
   },
   "outputs": [
    {
     "name": "stdout",
     "output_type": "stream",
     "text": [
      "Number of successful surgeries are  2808\n",
      "Number of failed surgeries are  690\n",
      "Success percentage of surgeries is 80.27444253859348\n",
      "\n",
      "\n",
      "Total Female patients are  1404\n",
      "The Success percentage if females is 79.34472934472934\n",
      "\n",
      "\n",
      "Total Male patients are  2094\n",
      "The Success percentage if Males is 80.89780324737345\n"
     ]
    }
   ],
   "source": [
    "successDF = nonDuplicateSurgeriesDF[(nonDuplicateSurgeriesDF.success == True)]\n",
    "failedDF = nonDuplicateSurgeriesDF[(nonDuplicateSurgeriesDF.success == False)]\n",
    "\n",
    "print(\"Number of successful surgeries are \", len(successDF))\n",
    "print(\"Number of failed surgeries are \", len(failedDF))\n",
    "print(\"Success percentage of surgeries is\", len(successDF) / len(nonDuplicateSurgeriesDF) * 100)\n",
    "print(\"\\n\")\n",
    "\n",
    "print (\"Total Female patients are \",len(femalesDF))\n",
    "print (\"The Success percentage if females is\" ,len(femalesDF[femalesDF.success == True]) / len(femalesDF) * 100)\n",
    "\n",
    "print(\"\\n\")\n",
    "print (\"Total Male patients are \",len(malesDF))\n",
    "print (\"The Success percentage if Males is\" ,len(malesDF[malesDF.success == True]) / len(malesDF) * 100)"
   ]
  },
  {
   "cell_type": "markdown",
   "metadata": {},
   "source": [
    "#### Lets explore the \"Treatment\" column.\n",
    "#### Lets see if any particular type of treatment is more successful than other"
   ]
  },
  {
   "cell_type": "code",
   "execution_count": 423,
   "metadata": {
    "collapsed": false,
    "deletable": true,
    "editable": true
   },
   "outputs": [
    {
     "data": {
      "text/plain": [
       "array(['X', 'Y'], dtype=object)"
      ]
     },
     "execution_count": 423,
     "metadata": {},
     "output_type": "execute_result"
    },
    {
     "name": "stdout",
     "output_type": "stream",
     "text": [
      "Number of patients treated with X method is 1749\n",
      "Number of patients treated with Y method is 1749\n",
      "\n",
      "\n",
      "Number of succesful surgeries by X treatments 1364\n",
      "Number of succesful surgeries by Y treatments 1444\n",
      "\n",
      "\n",
      "Success percentage of X treatment is 77.9874213836478\n",
      "Success percentage of Y treatment is 82.56146369353917\n"
     ]
    }
   ],
   "source": [
    "nonDuplicateSurgeriesDF.treatment.unique()\n",
    "\n",
    "treatmentXDF = nonDuplicateSurgeriesDF[nonDuplicateSurgeriesDF.treatment == \"X\"]\n",
    "treatmentYDF = nonDuplicateSurgeriesDF[nonDuplicateSurgeriesDF.treatment == \"Y\"]\n",
    "print(\"Number of patients treated with X method is\", len(treatmentXDF))\n",
    "print(\"Number of patients treated with Y method is\", len(treatmentYDF))\n",
    "print(\"\\n\")\n",
    "\n",
    "successfulXTreatments = treatmentXDF[treatmentXDF.success == True]\n",
    "successfulYTreatments = treatmentYDF[treatmentYDF.success == True]\n",
    "print(\"Number of succesful surgeries by X treatments\", len(successfulXTreatments))\n",
    "print(\"Number of succesful surgeries by Y treatments\", len(successfulYTreatments))\n",
    "print(\"\\n\")\n",
    "\n",
    "print(\"Success percentage of X treatment is\", len(successfulXTreatments)/len(treatmentXDF)*100 )\n",
    "print(\"Success percentage of Y treatment is\", len(successfulYTreatments)/len(treatmentYDF)*100 )"
   ]
  },
  {
   "cell_type": "markdown",
   "metadata": {},
   "source": [
    "#### Lets explore the initial_severity column and success ratio"
   ]
  },
  {
   "cell_type": "code",
   "execution_count": 431,
   "metadata": {
    "collapsed": false
   },
   "outputs": [
    {
     "data": {
      "text/plain": [
       "array(['MINOR', 'SEVERE'], dtype=object)"
      ]
     },
     "execution_count": 431,
     "metadata": {},
     "output_type": "execute_result"
    },
    {
     "name": "stdout",
     "output_type": "stream",
     "text": [
      "Total number of Minor initial_severity cases 1784\n",
      "Total number of Severe initial_severity cases 1714\n",
      "\n",
      "\n",
      "Total number of successful minor surgeries 1574\n",
      "Total number of successful severe surgeries 1234\n",
      "\n",
      "\n",
      "Sucess percentage of minor severity cases 88.2286995515695\n",
      "Sucess percentage of severe severity cases 71.9953325554259\n"
     ]
    }
   ],
   "source": [
    "nonDuplicateSurgeriesDF.initial_severity.unique()\n",
    "minorSeverityDF = nonDuplicateSurgeriesDF[nonDuplicateSurgeriesDF.initial_severity == \"MINOR\"]\n",
    "severeSeverityDF = nonDuplicateSurgeriesDF[nonDuplicateSurgeriesDF.initial_severity == \"SEVERE\"]\n",
    "print(\"Total number of Minor initial_severity cases\", len(minorSeverityDF))\n",
    "print(\"Total number of Severe initial_severity cases\", len(severeSeverityDF))\n",
    "print(\"\\n\")\n",
    "\n",
    "successfulMinorSurgeriesDF = successDF[successDF.initial_severity == \"MINOR\"]\n",
    "successfulSevereSurgeriesDF = successDF[successDF.initial_severity == \"SEVERE\"]\n",
    "print(\"Total number of successful minor surgeries\", len(successfulMinorSurgeriesDF))\n",
    "print(\"Total number of successful severe surgeries\", len(successfulSevereSurgeriesDF))\n",
    "print(\"\\n\")\n",
    "\n",
    "print(\"Sucess percentage of minor severity cases\",len(successfulMinorSurgeriesDF)/len(minorSeverityDF) *100  )\n",
    "print(\"Sucess percentage of severe severity cases\",len(successfulSevereSurgeriesDF)/len(severeSeverityDF) *100  )"
   ]
  },
  {
   "cell_type": "markdown",
   "metadata": {},
   "source": [
    "#### Lets check if there is any relation (correlation) between Insurance type and success\n",
    "#### No distictive characteristic is visible"
   ]
  },
  {
   "cell_type": "code",
   "execution_count": 577,
   "metadata": {
    "collapsed": false
   },
   "outputs": [
    {
     "data": {
      "text/plain": [
       "patient_insurance\n",
       "I    311\n",
       "C    299\n",
       "B    281\n",
       "J    278\n",
       "G    277\n",
       "E    276\n",
       "H    275\n",
       "A    274\n",
       "F    271\n",
       "D    263\n",
       "dtype: int64"
      ]
     },
     "execution_count": 577,
     "metadata": {},
     "output_type": "execute_result"
    }
   ],
   "source": [
    "successDF.groupby(\"patient_insurance\").size().sort_values(ascending=False)"
   ]
  },
  {
   "cell_type": "code",
   "execution_count": 578,
   "metadata": {
    "collapsed": false
   },
   "outputs": [
    {
     "data": {
      "text/plain": [
       "patient_insurance\n",
       "I    77\n",
       "B    77\n",
       "A    76\n",
       "E    74\n",
       "C    72\n",
       "G    71\n",
       "D    66\n",
       "F    63\n",
       "J    58\n",
       "H    56\n",
       "dtype: int64"
      ]
     },
     "execution_count": 578,
     "metadata": {},
     "output_type": "execute_result"
    }
   ],
   "source": [
    "failedDF.groupby(\"patient_insurance\").size().sort_values(ascending=False)"
   ]
  },
  {
   "cell_type": "markdown",
   "metadata": {},
   "source": [
    "#### Lets check who is our rock star surgeon and who are the bad performers"
   ]
  },
  {
   "cell_type": "code",
   "execution_count": 524,
   "metadata": {
    "collapsed": false,
    "scrolled": true
   },
   "outputs": [
    {
     "name": "stdout",
     "output_type": "stream",
     "text": [
      "The top 10 surgeons who have performed the most number of surgeries are\n"
     ]
    },
    {
     "data": {
      "text/plain": [
       "surgeon_id\n",
       "6     593\n",
       "10    245\n",
       "5     214\n",
       "13    209\n",
       "17    202\n",
       "20    199\n",
       "30    194\n",
       "32    192\n",
       "8     190\n",
       "18    186\n",
       "dtype: int64"
      ]
     },
     "execution_count": 524,
     "metadata": {},
     "output_type": "execute_result"
    },
    {
     "name": "stdout",
     "output_type": "stream",
     "text": [
      "\n",
      "\n",
      "The top 10 surgeons with highest number of successful surgeries\n"
     ]
    },
    {
     "data": {
      "text/plain": [
       "surgeon_id\n",
       "6     411\n",
       "10    221\n",
       "5     178\n",
       "17    172\n",
       "13    169\n",
       "20    163\n",
       "18    162\n",
       "32    157\n",
       "8     152\n",
       "30    128\n",
       "dtype: int64"
      ]
     },
     "execution_count": 524,
     "metadata": {},
     "output_type": "execute_result"
    },
    {
     "name": "stdout",
     "output_type": "stream",
     "text": [
      "\n",
      "\n",
      "The top 10 surgeons with highest success rate\n"
     ]
    },
    {
     "data": {
      "text/plain": [
       "surgeon_id\n",
       "24    100.000000\n",
       "22    100.000000\n",
       "28     92.857143\n",
       "10     90.204082\n",
       "43     88.461538\n",
       "3      87.209302\n",
       "18     87.096774\n",
       "7      86.363636\n",
       "4      86.153846\n",
       "17     85.148515\n",
       "dtype: float64"
      ]
     },
     "execution_count": 524,
     "metadata": {},
     "output_type": "execute_result"
    },
    {
     "name": "stdout",
     "output_type": "stream",
     "text": [
      "\n",
      "\n",
      "The top 10 surgeons with the highest failure rate\n",
      "Note that surgeon_id 6 is one of the bad performers\n"
     ]
    },
    {
     "data": {
      "text/plain": [
       "surgeon_id\n",
       "0     100.000000\n",
       "30     34.020619\n",
       "41     33.333333\n",
       "6      30.691400\n",
       "25     21.118012\n",
       "21     20.000000\n",
       "8      20.000000\n",
       "13     19.138756\n",
       "19     18.620690\n",
       "32     18.229167\n",
       "dtype: float64"
      ]
     },
     "execution_count": 524,
     "metadata": {},
     "output_type": "execute_result"
    }
   ],
   "source": [
    "print(\"The top 10 surgeons who have performed the most number of surgeries are\")\n",
    "nonDuplicateSurgeriesDF.groupby(\"surgeon_id\").size().sort_values(ascending=False).head(10)\n",
    "\n",
    "print(\"\\n\")\n",
    "print(\"The top 10 surgeons with highest number of successful surgeries\")\n",
    "successDF.groupby(\"surgeon_id\").size().sort_values(ascending=False).head(10)\n",
    "\n",
    "print(\"\\n\")\n",
    "print(\"The top 10 surgeons with highest success rate\")\n",
    "(successDF.groupby(\"surgeon_id\").size() / nonDuplicateSurgeriesDF.groupby(\"surgeon_id\").size()*100).sort_values(ascending=False).head(10)\n",
    "\n",
    "print(\"\\n\")\n",
    "print(\"The top 10 surgeons with the highest failure rate\")\n",
    "print(\"Note that surgeon_id 6 is one of the bad performers\")\n",
    "(failedDF.groupby(\"surgeon_id\").size() / nonDuplicateSurgeriesDF.groupby(\"surgeon_id\").size()*100).sort_values(ascending=False).head(10)"
   ]
  },
  {
   "cell_type": "markdown",
   "metadata": {},
   "source": [
    "## Backup code for insights"
   ]
  },
  {
   "cell_type": "code",
   "execution_count": 468,
   "metadata": {
    "collapsed": false
   },
   "outputs": [
    {
     "data": {
      "text/html": [
       "<div>\n",
       "<table border=\"1\" class=\"dataframe\">\n",
       "  <thead>\n",
       "    <tr style=\"text-align: right;\">\n",
       "      <th></th>\n",
       "      <th>date_of_birth</th>\n",
       "      <th>patient_insurance</th>\n",
       "      <th>patient_sex</th>\n",
       "      <th>success</th>\n",
       "      <th>surgeon_id</th>\n",
       "      <th>over_under_correction</th>\n",
       "      <th>treatment</th>\n",
       "      <th>initial_severity</th>\n",
       "      <th>dob</th>\n",
       "      <th>Age</th>\n",
       "    </tr>\n",
       "  </thead>\n",
       "  <tbody>\n",
       "    <tr>\n",
       "      <th>0</th>\n",
       "      <td>3/14/70</td>\n",
       "      <td>D</td>\n",
       "      <td>Male</td>\n",
       "      <td>True</td>\n",
       "      <td>18</td>\n",
       "      <td>NaN</td>\n",
       "      <td>X</td>\n",
       "      <td>MINOR</td>\n",
       "      <td>1970</td>\n",
       "      <td>47</td>\n",
       "    </tr>\n",
       "    <tr>\n",
       "      <th>1</th>\n",
       "      <td>10/23/98</td>\n",
       "      <td>I</td>\n",
       "      <td>Male</td>\n",
       "      <td>True</td>\n",
       "      <td>17</td>\n",
       "      <td>NaN</td>\n",
       "      <td>Y</td>\n",
       "      <td>MINOR</td>\n",
       "      <td>1998</td>\n",
       "      <td>19</td>\n",
       "    </tr>\n",
       "    <tr>\n",
       "      <th>2</th>\n",
       "      <td>7/25/74</td>\n",
       "      <td>A</td>\n",
       "      <td>Male</td>\n",
       "      <td>True</td>\n",
       "      <td>8</td>\n",
       "      <td>NaN</td>\n",
       "      <td>Y</td>\n",
       "      <td>MINOR</td>\n",
       "      <td>1974</td>\n",
       "      <td>43</td>\n",
       "    </tr>\n",
       "    <tr>\n",
       "      <th>3</th>\n",
       "      <td>11/6/82</td>\n",
       "      <td>D</td>\n",
       "      <td>Male</td>\n",
       "      <td>True</td>\n",
       "      <td>8</td>\n",
       "      <td>NaN</td>\n",
       "      <td>X</td>\n",
       "      <td>MINOR</td>\n",
       "      <td>1982</td>\n",
       "      <td>35</td>\n",
       "    </tr>\n",
       "    <tr>\n",
       "      <th>4</th>\n",
       "      <td>7/24/70</td>\n",
       "      <td>B</td>\n",
       "      <td>Male</td>\n",
       "      <td>True</td>\n",
       "      <td>9</td>\n",
       "      <td>NaN</td>\n",
       "      <td>Y</td>\n",
       "      <td>SEVERE</td>\n",
       "      <td>1970</td>\n",
       "      <td>47</td>\n",
       "    </tr>\n",
       "  </tbody>\n",
       "</table>\n",
       "</div>"
      ],
      "text/plain": [
       "  date_of_birth patient_insurance patient_sex success  surgeon_id  \\\n",
       "0       3/14/70                 D        Male    True          18   \n",
       "1      10/23/98                 I        Male    True          17   \n",
       "2       7/25/74                 A        Male    True           8   \n",
       "3       11/6/82                 D        Male    True           8   \n",
       "4       7/24/70                 B        Male    True           9   \n",
       "\n",
       "  over_under_correction treatment initial_severity   dob  Age  \n",
       "0                   NaN         X            MINOR  1970   47  \n",
       "1                   NaN         Y            MINOR  1998   19  \n",
       "2                   NaN         Y            MINOR  1974   43  \n",
       "3                   NaN         X            MINOR  1982   35  \n",
       "4                   NaN         Y           SEVERE  1970   47  "
      ]
     },
     "execution_count": 468,
     "metadata": {},
     "output_type": "execute_result"
    }
   ],
   "source": [
    "nonDuplicateSurgeriesDF.head(5)"
   ]
  },
  {
   "cell_type": "code",
   "execution_count": 471,
   "metadata": {
    "collapsed": false
   },
   "outputs": [
    {
     "data": {
      "text/plain": [
       "count     3495\n",
       "unique      10\n",
       "top          I\n",
       "freq       388\n",
       "Name: patient_insurance, dtype: object"
      ]
     },
     "execution_count": 471,
     "metadata": {},
     "output_type": "execute_result"
    }
   ],
   "source": [
    "nonDuplicateSurgeriesDF.patient_insurance.describe()"
   ]
  },
  {
   "cell_type": "code",
   "execution_count": 473,
   "metadata": {
    "collapsed": false
   },
   "outputs": [
    {
     "data": {
      "text/plain": [
       "28"
      ]
     },
     "execution_count": 473,
     "metadata": {},
     "output_type": "execute_result"
    }
   ],
   "source": [
    "len(nonDuplicateSurgeriesDF.surgeon_id.unique())"
   ]
  },
  {
   "cell_type": "code",
   "execution_count": 478,
   "metadata": {
    "collapsed": false
   },
   "outputs": [
    {
     "data": {
      "text/plain": [
       "1784"
      ]
     },
     "execution_count": 478,
     "metadata": {},
     "output_type": "execute_result"
    }
   ],
   "source": [
    "len(nonDuplicateSurgeriesDF[nonDuplicateSurgeriesDF.initial_severity == \"MINOR\"])"
   ]
  },
  {
   "cell_type": "code",
   "execution_count": 477,
   "metadata": {
    "collapsed": false,
    "scrolled": true
   },
   "outputs": [
    {
     "data": {
      "text/plain": [
       "1714"
      ]
     },
     "execution_count": 477,
     "metadata": {},
     "output_type": "execute_result"
    }
   ],
   "source": [
    "len(nonDuplicateSurgeriesDF[nonDuplicateSurgeriesDF.initial_severity == \"SEVERE\"])"
   ]
  },
  {
   "cell_type": "code",
   "execution_count": 476,
   "metadata": {
    "collapsed": false
   },
   "outputs": [
    {
     "data": {
      "text/plain": [
       "3498"
      ]
     },
     "execution_count": 476,
     "metadata": {},
     "output_type": "execute_result"
    }
   ],
   "source": [
    "len(nonDuplicateSurgeriesDF)"
   ]
  },
  {
   "cell_type": "code",
   "execution_count": 485,
   "metadata": {
    "collapsed": false
   },
   "outputs": [
    {
     "name": "stderr",
     "output_type": "stream",
     "text": [
      "C:\\Users\\v-amghat\\AppData\\Local\\Enthought\\Canopy\\edm\\envs\\User\\lib\\site-packages\\ipykernel\\__main__.py:1: FutureWarning: sort(columns=....) is deprecated, use sort_values(by=.....)\n",
      "  if __name__ == '__main__':\n"
     ]
    },
    {
     "data": {
      "text/html": [
       "<div>\n",
       "<table border=\"1\" class=\"dataframe\">\n",
       "  <thead>\n",
       "    <tr style=\"text-align: right;\">\n",
       "      <th></th>\n",
       "      <th>Age</th>\n",
       "      <th>patient_sex</th>\n",
       "      <th>success</th>\n",
       "    </tr>\n",
       "  </thead>\n",
       "  <tbody>\n",
       "    <tr>\n",
       "      <th>3322</th>\n",
       "      <td>14</td>\n",
       "      <td>Female</td>\n",
       "      <td>True</td>\n",
       "    </tr>\n",
       "    <tr>\n",
       "      <th>2239</th>\n",
       "      <td>14</td>\n",
       "      <td>Male</td>\n",
       "      <td>True</td>\n",
       "    </tr>\n",
       "    <tr>\n",
       "      <th>287</th>\n",
       "      <td>14</td>\n",
       "      <td>Female</td>\n",
       "      <td>True</td>\n",
       "    </tr>\n",
       "  </tbody>\n",
       "</table>\n",
       "</div>"
      ],
      "text/plain": [
       "      Age patient_sex success\n",
       "3322   14      Female    True\n",
       "2239   14        Male    True\n",
       "287    14      Female    True"
      ]
     },
     "execution_count": 485,
     "metadata": {},
     "output_type": "execute_result"
    }
   ],
   "source": [
    "nonDuplicateSurgeriesDF[[\"Age\", \"patient_sex\", \"success\"]].sort(\"Age\").head(3)"
   ]
  },
  {
   "cell_type": "code",
   "execution_count": 484,
   "metadata": {
    "collapsed": false
   },
   "outputs": [
    {
     "name": "stderr",
     "output_type": "stream",
     "text": [
      "C:\\Users\\v-amghat\\AppData\\Local\\Enthought\\Canopy\\edm\\envs\\User\\lib\\site-packages\\ipykernel\\__main__.py:1: FutureWarning: sort(columns=....) is deprecated, use sort_values(by=.....)\n",
      "  if __name__ == '__main__':\n"
     ]
    },
    {
     "data": {
      "text/html": [
       "<div>\n",
       "<table border=\"1\" class=\"dataframe\">\n",
       "  <thead>\n",
       "    <tr style=\"text-align: right;\">\n",
       "      <th></th>\n",
       "      <th>Age</th>\n",
       "      <th>patient_sex</th>\n",
       "      <th>success</th>\n",
       "    </tr>\n",
       "  </thead>\n",
       "  <tbody>\n",
       "    <tr>\n",
       "      <th>592</th>\n",
       "      <td>77</td>\n",
       "      <td>Male</td>\n",
       "      <td>True</td>\n",
       "    </tr>\n",
       "    <tr>\n",
       "      <th>710</th>\n",
       "      <td>77</td>\n",
       "      <td>Female</td>\n",
       "      <td>True</td>\n",
       "    </tr>\n",
       "    <tr>\n",
       "      <th>3059</th>\n",
       "      <td>77</td>\n",
       "      <td>Male</td>\n",
       "      <td>True</td>\n",
       "    </tr>\n",
       "  </tbody>\n",
       "</table>\n",
       "</div>"
      ],
      "text/plain": [
       "      Age patient_sex success\n",
       "592    77        Male    True\n",
       "710    77      Female    True\n",
       "3059   77        Male    True"
      ]
     },
     "execution_count": 484,
     "metadata": {},
     "output_type": "execute_result"
    }
   ],
   "source": [
    "nonDuplicateSurgeriesDF[[\"Age\", \"patient_sex\", \"success\"]].sort(\"Age\", ascending= False).head(3)"
   ]
  },
  {
   "cell_type": "code",
   "execution_count": 494,
   "metadata": {
    "collapsed": false
   },
   "outputs": [
    {
     "data": {
      "text/plain": [
       "34.418803418803421"
      ]
     },
     "execution_count": 494,
     "metadata": {},
     "output_type": "execute_result"
    }
   ],
   "source": [
    "femalesDF.Age.mean()"
   ]
  },
  {
   "cell_type": "code",
   "execution_count": 495,
   "metadata": {
    "collapsed": false
   },
   "outputs": [
    {
     "data": {
      "text/plain": [
       "34.681470869149955"
      ]
     },
     "execution_count": 495,
     "metadata": {},
     "output_type": "execute_result"
    }
   ],
   "source": [
    "malesDF.Age.mean()"
   ]
  },
  {
   "cell_type": "code",
   "execution_count": 496,
   "metadata": {
    "collapsed": false
   },
   "outputs": [
    {
     "data": {
      "text/plain": [
       "34.576043453401944"
      ]
     },
     "execution_count": 496,
     "metadata": {},
     "output_type": "execute_result"
    }
   ],
   "source": [
    "nonDuplicateSurgeriesDF.Age.mean()"
   ]
  },
  {
   "cell_type": "code",
   "execution_count": 522,
   "metadata": {
    "collapsed": false,
    "scrolled": true
   },
   "outputs": [
    {
     "data": {
      "text/plain": [
       "194"
      ]
     },
     "execution_count": 522,
     "metadata": {},
     "output_type": "execute_result"
    },
    {
     "data": {
      "text/plain": [
       "66"
      ]
     },
     "execution_count": 522,
     "metadata": {},
     "output_type": "execute_result"
    }
   ],
   "source": [
    "len(nonDuplicateSurgeriesDF[nonDuplicateSurgeriesDF.surgeon_id == 30])\n",
    "len(nonDuplicateSurgeriesDF[((nonDuplicateSurgeriesDF.surgeon_id == 30) & (nonDuplicateSurgeriesDF.success== False))])"
   ]
  },
  {
   "cell_type": "code",
   "execution_count": 500,
   "metadata": {
    "collapsed": false
   },
   "outputs": [
    {
     "data": {
      "text/plain": [
       "treatment\n",
       "X    1364\n",
       "Y    1444\n",
       "dtype: int64"
      ]
     },
     "execution_count": 500,
     "metadata": {},
     "output_type": "execute_result"
    }
   ],
   "source": [
    "successDF.groupby(\"treatment\").size()"
   ]
  },
  {
   "cell_type": "code",
   "execution_count": 505,
   "metadata": {
    "collapsed": false
   },
   "outputs": [
    {
     "data": {
      "text/plain": [
       "2808"
      ]
     },
     "execution_count": 505,
     "metadata": {},
     "output_type": "execute_result"
    }
   ],
   "source": [
    "len(successDF)"
   ]
  },
  {
   "cell_type": "code",
   "execution_count": 506,
   "metadata": {
    "collapsed": false
   },
   "outputs": [
    {
     "data": {
      "text/plain": [
       "1234"
      ]
     },
     "execution_count": 506,
     "metadata": {},
     "output_type": "execute_result"
    }
   ],
   "source": [
    "severeDF = successDF[successDF.initial_severity == \"SEVERE\"]\n",
    "len(severeDF)"
   ]
  },
  {
   "cell_type": "code",
   "execution_count": 561,
   "metadata": {
    "collapsed": false
   },
   "outputs": [
    {
     "data": {
      "text/plain": [
       "746"
      ]
     },
     "execution_count": 561,
     "metadata": {},
     "output_type": "execute_result"
    },
    {
     "data": {
      "text/plain": [
       "608"
      ]
     },
     "execution_count": 561,
     "metadata": {},
     "output_type": "execute_result"
    },
    {
     "data": {
      "text/plain": [
       "81.50134048257372"
      ]
     },
     "execution_count": 561,
     "metadata": {},
     "output_type": "execute_result"
    },
    {
     "data": {
      "text/plain": [
       "2752"
      ]
     },
     "execution_count": 561,
     "metadata": {},
     "output_type": "execute_result"
    },
    {
     "data": {
      "text/plain": [
       "2200"
      ]
     },
     "execution_count": 561,
     "metadata": {},
     "output_type": "execute_result"
    },
    {
     "data": {
      "text/plain": [
       "79.94186046511628"
      ]
     },
     "execution_count": 561,
     "metadata": {},
     "output_type": "execute_result"
    }
   ],
   "source": [
    "youngAdultsSurgeriesDF = nonDuplicateSurgeriesDF[nonDuplicateSurgeriesDF.Age <= 25]\n",
    "len(youngAdultsSurgeriesDF)\n",
    "youngAdultsSurgeriesSuccessDF = youngAdultsSurgeriesDF[youngAdultsSurgeriesDF.success == True]\n",
    "len(youngAdultsSurgeriesSuccessDF)\n",
    "len(youngAdultsSurgeriesSuccessDF) / len(youngAdultsSurgeriesDF) * 100\n",
    "adultSurgeriesDF = nonDuplicateSurgeriesDF[nonDuplicateSurgeriesDF.Age > 25]\n",
    "len(adultSurgeriesDF)\n",
    "adultSurgeriesSuccessDF = adultSurgeriesDF[adultSurgeriesDF.success == True]\n",
    "len(adultSurgeriesSuccessDF)\n",
    "len(adultSurgeriesSuccessDF) / len(adultSurgeriesDF) * 100"
   ]
  },
  {
   "cell_type": "code",
   "execution_count": 562,
   "metadata": {
    "collapsed": false
   },
   "outputs": [
    {
     "data": {
      "text/plain": [
       "surgeon_id\n",
       "10    58\n",
       "6     58\n",
       "5     55\n",
       "20    43\n",
       "18    40\n",
       "13    39\n",
       "32    39\n",
       "17    34\n",
       "4     30\n",
       "19    29\n",
       "8     27\n",
       "9     24\n",
       "30    23\n",
       "25    19\n",
       "16    18\n",
       "11    15\n",
       "12    14\n",
       "3     14\n",
       "21     7\n",
       "31     6\n",
       "7      6\n",
       "2      4\n",
       "22     2\n",
       "43     2\n",
       "41     1\n",
       "24     1\n",
       "dtype: int64"
      ]
     },
     "execution_count": 562,
     "metadata": {},
     "output_type": "execute_result"
    }
   ],
   "source": [
    "youngAdultsSurgeriesSuccessDF.groupby(\"surgeon_id\").size().sort_values(ascending = False)"
   ]
  },
  {
   "cell_type": "code",
   "execution_count": 563,
   "metadata": {
    "collapsed": false
   },
   "outputs": [
    {
     "data": {
      "text/plain": [
       "surgeon_id\n",
       "6     86\n",
       "10    63\n",
       "5     62\n",
       "20    51\n",
       "13    47\n",
       "32    44\n",
       "18    43\n",
       "17    41\n",
       "8     40\n",
       "30    37\n",
       "19    34\n",
       "4     33\n",
       "25    29\n",
       "9     27\n",
       "16    21\n",
       "12    18\n",
       "11    17\n",
       "3     16\n",
       "21    10\n",
       "31     7\n",
       "7      6\n",
       "2      6\n",
       "43     3\n",
       "22     2\n",
       "41     1\n",
       "24     1\n",
       "28     1\n",
       "dtype: int64"
      ]
     },
     "execution_count": 563,
     "metadata": {},
     "output_type": "execute_result"
    }
   ],
   "source": [
    "youngAdultsSurgeriesDF.groupby(\"surgeon_id\").size().sort_values(ascending = False)"
   ]
  },
  {
   "cell_type": "code",
   "execution_count": 568,
   "metadata": {
    "collapsed": false
   },
   "outputs": [
    {
     "name": "stdout",
     "output_type": "stream",
     "text": [
      "The top 5 surgeons who should be assigned young patients (less than 25 years age) are\n"
     ]
    },
    {
     "data": {
      "text/plain": [
       "surgeon_id\n",
       "18    93.023256\n",
       "10    92.063492\n",
       "5     88.709677\n",
       "32    88.636364\n",
       "20    84.313725\n",
       "dtype: float64"
      ]
     },
     "execution_count": 568,
     "metadata": {},
     "output_type": "execute_result"
    }
   ],
   "source": [
    "print(\"The top 5 surgeons who should be assigned young patients (less than 25 years age) are\")\n",
    "(youngAdultsSurgeriesSuccessDF.groupby(\"surgeon_id\").size().sort_values(ascending = False).head(10) / youngAdultsSurgeriesDF.groupby(\"surgeon_id\").size().sort_values(ascending = False).head(10)*100).sort_values(ascending = False).head(5)"
   ]
  },
  {
   "cell_type": "code",
   "execution_count": 575,
   "metadata": {
    "collapsed": false
   },
   "outputs": [
    {
     "data": {
      "text/plain": [
       "11"
      ]
     },
     "execution_count": 575,
     "metadata": {},
     "output_type": "execute_result"
    },
    {
     "data": {
      "text/plain": [
       "initial_severity\n",
       "MINOR     9\n",
       "SEVERE    2\n",
       "dtype: int64"
      ]
     },
     "execution_count": 575,
     "metadata": {},
     "output_type": "execute_result"
    }
   ],
   "source": [
    "surgeon22DF = nonDuplicateSurgeriesDF[nonDuplicateSurgeriesDF.surgeon_id == 22]\n",
    "len(surgeon22DF)\n",
    "surgeon22DF.groupby(\"initial_severity\").size()"
   ]
  },
  {
   "cell_type": "code",
   "execution_count": 569,
   "metadata": {
    "collapsed": false
   },
   "outputs": [
    {
     "data": {
      "text/plain": [
       "array([nan, 'UNDER', 'OVER'], dtype=object)"
      ]
     },
     "execution_count": 569,
     "metadata": {},
     "output_type": "execute_result"
    }
   ],
   "source": [
    "nonDuplicateSurgeriesDF.over_under_correction.unique()"
   ]
  },
  {
   "cell_type": "code",
   "execution_count": 570,
   "metadata": {
    "collapsed": false
   },
   "outputs": [
    {
     "data": {
      "text/plain": [
       "array(['D', 'I', 'A', 'B', 'G', 'F', 'J', 'C', 'H', 'E', nan], dtype=object)"
      ]
     },
     "execution_count": 570,
     "metadata": {},
     "output_type": "execute_result"
    }
   ],
   "source": [
    "nonDuplicateSurgeriesDF.patient_insurance.unique()"
   ]
  },
  {
   "cell_type": "code",
   "execution_count": 596,
   "metadata": {
    "collapsed": false
   },
   "outputs": [
    {
     "name": "stdout",
     "output_type": "stream",
     "text": [
      "Top 5 surgeons for Minor surgeries\n"
     ]
    },
    {
     "data": {
      "text/plain": [
       "surgeon_id\n",
       "43    100.000000\n",
       "22    100.000000\n",
       "41    100.000000\n",
       "10     97.826087\n",
       "16     96.078431\n",
       "31     95.238095\n",
       "4      92.753623\n",
       "3      92.682927\n",
       "8      92.222222\n",
       "12     91.428571\n",
       "dtype: float64"
      ]
     },
     "execution_count": 596,
     "metadata": {},
     "output_type": "execute_result"
    }
   ],
   "source": [
    "#successfulMinorSurgeriesDF.groupby(\"surgeon_id\").size().sort_values(ascending=False)\n",
    "print(\"Top 5 surgeons for Minor surgeries\")\n",
    "(successfulMinorSurgeriesDF.groupby(\"surgeon_id\").size() / minorSeverityDF.groupby(\"surgeon_id\").size()*100).sort_values(ascending=False).head(10)"
   ]
  },
  {
   "cell_type": "code",
   "execution_count": 597,
   "metadata": {
    "collapsed": false
   },
   "outputs": [
    {
     "name": "stdout",
     "output_type": "stream",
     "text": [
      "Top 5 surgeons for Major surgeries\n"
     ]
    },
    {
     "data": {
      "text/plain": [
       "surgeon_id\n",
       "24    100.000000\n",
       "28    100.000000\n",
       "22    100.000000\n",
       "7      95.833333\n",
       "9      86.000000\n",
       "2      85.714286\n",
       "18     84.883721\n",
       "17     83.035714\n",
       "3      82.222222\n",
       "10     80.373832\n",
       "dtype: float64"
      ]
     },
     "execution_count": 597,
     "metadata": {},
     "output_type": "execute_result"
    }
   ],
   "source": [
    "#successfulSevereSurgeriesDF.groupby(\"surgeon_id\").size().sort_values(ascending=False)\n",
    "print(\"Top 5 surgeons for Major surgeries\")\n",
    "(successfulSevereSurgeriesDF.groupby(\"surgeon_id\").size() / severeSeverityDF.groupby(\"surgeon_id\").size()*100).sort_values(ascending=False).head(10)"
   ]
  },
  {
   "cell_type": "code",
   "execution_count": 586,
   "metadata": {
    "collapsed": false
   },
   "outputs": [],
   "source": [
    "#nonDuplicateSurgeriesDF[nonDuplicateSurgeriesDF.surgeon_id == 24]"
   ]
  },
  {
   "cell_type": "code",
   "execution_count": 587,
   "metadata": {
    "collapsed": false
   },
   "outputs": [],
   "source": [
    "#nonDuplicateSurgeriesDF[nonDuplicateSurgeriesDF.surgeon_id == 43]"
   ]
  },
  {
   "cell_type": "code",
   "execution_count": null,
   "metadata": {
    "collapsed": true
   },
   "outputs": [],
   "source": []
  }
 ],
 "metadata": {
  "kernelspec": {
   "display_name": "Python 3",
   "language": "python",
   "name": "python3"
  },
  "language_info": {
   "codemirror_mode": {
    "name": "ipython",
    "version": 3
   },
   "file_extension": ".py",
   "mimetype": "text/x-python",
   "name": "python",
   "nbconvert_exporter": "python",
   "pygments_lexer": "ipython3",
   "version": "3.5.2"
  }
 },
 "nbformat": 4,
 "nbformat_minor": 2
}
